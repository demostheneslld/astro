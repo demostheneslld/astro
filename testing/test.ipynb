{
 "cells": [
  {
   "cell_type": "code",
   "execution_count": 3,
   "metadata": {
    "collapsed": false
   },
   "outputs": [
    {
     "data": {
      "text/plain": [
       "'C:/Users/Nathan/Dropbox/GitHub/astro/inputs'"
      ]
     },
     "execution_count": 3,
     "metadata": {},
     "output_type": "execute_result"
    }
   ],
   "source": [
    "inputs['astro']"
   ]
  },
  {
   "cell_type": "code",
   "execution_count": 82,
   "metadata": {
    "collapsed": false
   },
   "outputs": [
    {
     "name": "stdout",
     "output_type": "stream",
     "text": [
      "\n",
      "\n",
      "\n",
      "######################################################\n",
      "\n",
      "INPUT FOLDERS:\n",
      "C:/Users/Nathan/Dropbox/GitHub/astro/inputs\n",
      "\n",
      "OUTPUT FOLDERS:\n",
      "C:/Users/Nathan/Dropbox/GitHub/astro/outputs\n",
      "\n",
      "######################################################\n",
      "\n"
     ]
    },
    {
     "data": {
      "text/html": [
       "<div>\n",
       "<table border=\"1\" class=\"dataframe\">\n",
       "  <thead>\n",
       "    <tr style=\"text-align: right;\">\n",
       "      <th></th>\n",
       "      <th>month</th>\n",
       "      <th>day</th>\n",
       "      <th>event</th>\n",
       "      <th>time</th>\n",
       "    </tr>\n",
       "  </thead>\n",
       "  <tbody>\n",
       "    <tr>\n",
       "      <th>0</th>\n",
       "      <td>1</td>\n",
       "      <td>01</td>\n",
       "      <td>1_r</td>\n",
       "      <td>1551</td>\n",
       "    </tr>\n",
       "    <tr>\n",
       "      <th>1</th>\n",
       "      <td>1</td>\n",
       "      <td>01</td>\n",
       "      <td>1_s</td>\n",
       "      <td>0036</td>\n",
       "    </tr>\n",
       "    <tr>\n",
       "      <th>2</th>\n",
       "      <td>2</td>\n",
       "      <td>01</td>\n",
       "      <td>2_r</td>\n",
       "      <td>1532</td>\n",
       "    </tr>\n",
       "    <tr>\n",
       "      <th>3</th>\n",
       "      <td>2</td>\n",
       "      <td>01</td>\n",
       "      <td>2_s</td>\n",
       "      <td>0115</td>\n",
       "    </tr>\n",
       "    <tr>\n",
       "      <th>4</th>\n",
       "      <td>3</td>\n",
       "      <td>01</td>\n",
       "      <td>3_r</td>\n",
       "      <td>1449</td>\n",
       "    </tr>\n",
       "  </tbody>\n",
       "</table>\n",
       "</div>"
      ],
      "text/plain": [
       "  month day event  time\n",
       "0     1  01   1_r  1551\n",
       "1     1  01   1_s  0036\n",
       "2     2  01   2_r  1532\n",
       "3     2  01   2_s  0115\n",
       "4     3  01   3_r  1449"
      ]
     },
     "execution_count": 82,
     "metadata": {},
     "output_type": "execute_result"
    }
   ],
   "source": [
    "#!/usr/bin/python\n",
    "\n",
    "# SET I/O\n",
    "inputs = {'astro' : 'C:/Users/Nathan/Dropbox/GitHub/astro/inputs'}\n",
    "outputs = {'astro' : 'C:/Users/Nathan/Dropbox/GitHub/astro/outputs'}\n",
    "\n",
    "# LIBRARIES\n",
    "import os\n",
    "import time\n",
    "import datetime as dt\n",
    "import numpy as np\n",
    "import matplotlib as matplotlib\n",
    "import matplotlib.pyplot as plt \n",
    "import pandas as pd \n",
    "import matplotlib.dates as mdates\n",
    "from matplotlib.dates import date2num, num2date\n",
    "from matplotlib import ticker\n",
    "from pandas import DataFrame, Series, ExcelWriter\n",
    "from datetime import datetime\n",
    "from matplotlib.backends.backend_pdf import PdfPages\n",
    "from matplotlib.offsetbox import TextArea, DrawingArea, OffsetImage, \\\n",
    "     AnnotationBbox\n",
    "from matplotlib.cbook import get_sample_data\n",
    "from matplotlib.ticker import FuncFormatter\n",
    "pd.options.mode.chained_assignment = None\n",
    "\n",
    "# SCRIPT SUMMARY\n",
    "print(\"\\n\\n\\n######################################################\\n\")\n",
    "if '__file__' in globals():\n",
    "    print(\"CURRENT SCRIPT:\\n\" + str(os.path.realpath(__file__)) + \"\\n\")\n",
    "print(\"INPUT FOLDERS:\")\n",
    "for key in inputs:\n",
    "    print(inputs[key])\n",
    "print(\"\\nOUTPUT FOLDERS:\")\n",
    "for key in outputs:\n",
    "    print(outputs[key])\n",
    "print(\"\\n######################################################\\n\")\n",
    "\n",
    "# PARAMS\n",
    "filename = 'Sunrise Sunset-2015.txt'\n",
    "year = 2015\n",
    "firstdata = 9\n",
    "maxdays = 31\n",
    "start = dt.datetime(year,1,1,0,0)\n",
    "columns = ['month','day','event','time']\n",
    "\n",
    "## NOTE: Input files must be named in the format: name + \"-\" + date(\"YYYY-MM-DD\")\n",
    "# FIND OPPORTUNITY DATA\n",
    "os.chdir(inputs['astro'])\n",
    "\n",
    "# Using the newer with construct to close the file automatically.\n",
    "with open(filename) as f:\n",
    "    data = f.readlines()\n",
    "\n",
    "# cut off extra crap\n",
    "raw = data[firstdata:firstdata+maxdays]\n",
    "    \n",
    "test = raw\n",
    "\n",
    "data = pd.DataFrame(columns=columns)\n",
    "temp = pd.DataFrame([[0,0,'r',start]], columns=columns)\n",
    "\n",
    "start_space = [4,5, #jan\n",
    "               6,5, #feb\n",
    "               6,5, #mar\n",
    "               6,5, #apr\n",
    "               6,5, #may\n",
    "               6,5, #jun\n",
    "               6,5, #jul\n",
    "               6,5, #aug\n",
    "               6,5, #sep\n",
    "               6,5, #oct\n",
    "               6,5, #nov\n",
    "               6,5] #dec\n",
    "\n",
    "events = ['1_r','1_s',\n",
    "          '2_r','2_s',\n",
    "          '3_r','3_s',\n",
    "          '4_r','4_s',\n",
    "          '5_r','5_s',\n",
    "          '6_r','6_s',\n",
    "          '7_r','7_s',\n",
    "          '8_r','8_s',\n",
    "          '9_r','9_s',\n",
    "          '10_r','10_s',\n",
    "          '11_r','11_s',\n",
    "          '12_r','12_s']\n",
    "\n",
    "\n",
    "for i in range(0,len(test)):\n",
    "    # find day\n",
    "    start = 0\n",
    "    end = 2\n",
    "    temp['day'] = raw[i][start:end]\n",
    "    # find times\n",
    "    for j in range(0,len(events)):\n",
    "        temp['month'] = events[j].split(\"_\")[0]\n",
    "        temp['event'] = events[j]\n",
    "        start += start_space[j]\n",
    "        end = start + 4\n",
    "        temp['time'] = raw[i][start:end]\n",
    "        data = data.append(temp, ignore_index=True)\n",
    "        \n",
    "data.head(5)"
   ]
  },
  {
   "cell_type": "code",
   "execution_count": 48,
   "metadata": {
    "collapsed": false
   },
   "outputs": [],
   "source": [
    "writer = ExcelWriter('export.xlsx', engine = 'xlsxwriter')\n",
    "raw.to_excel(writer, sheet_name=\"raw\")\n",
    "writer.save()"
   ]
  }
 ],
 "metadata": {
  "kernelspec": {
   "display_name": "Python 2",
   "language": "python",
   "name": "python2"
  },
  "language_info": {
   "codemirror_mode": {
    "name": "ipython",
    "version": 2
   },
   "file_extension": ".py",
   "mimetype": "text/x-python",
   "name": "python",
   "nbconvert_exporter": "python",
   "pygments_lexer": "ipython2",
   "version": "2.7.7"
  }
 },
 "nbformat": 4,
 "nbformat_minor": 0
}
