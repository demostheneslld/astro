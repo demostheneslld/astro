{
 "cells": [
  {
   "cell_type": "code",
   "execution_count": 3,
   "metadata": {
    "collapsed": false
   },
   "outputs": [
    {
     "data": {
      "text/plain": [
       "'C:/Users/Nathan/Dropbox/GitHub/astro/inputs'"
      ]
     },
     "execution_count": 3,
     "metadata": {},
     "output_type": "execute_result"
    }
   ],
   "source": [
    "inputs['astro']"
   ]
  },
  {
   "cell_type": "code",
   "execution_count": 64,
   "metadata": {
    "collapsed": false
   },
   "outputs": [
    {
     "name": "stdout",
     "output_type": "stream",
     "text": [
      "\n",
      "\n",
      "\n",
      "######################################################\n",
      "\n",
      "INPUT FOLDERS:\n",
      "C:/Users/Nathan/Dropbox/GitHub/astro/inputs\n",
      "\n",
      "OUTPUT FOLDERS:\n",
      "C:/Users/Nathan/Dropbox/GitHub/astro/outputs\n",
      "\n",
      "######################################################\n",
      "\n"
     ]
    }
   ],
   "source": [
    "#!/usr/bin/python\n",
    "\n",
    "# SET I/O\n",
    "inputs = {'astro' : 'C:/Users/Nathan/Dropbox/GitHub/astro/inputs'}\n",
    "outputs = {'astro' : 'C:/Users/Nathan/Dropbox/GitHub/astro/outputs'}\n",
    "\n",
    "# LIBRARIES\n",
    "import os\n",
    "import time\n",
    "import datetime as dt\n",
    "import numpy as np\n",
    "import matplotlib as matplotlib\n",
    "import matplotlib.pyplot as plt \n",
    "import pandas as pd \n",
    "import matplotlib.dates as mdates\n",
    "from matplotlib.dates import date2num, num2date\n",
    "from matplotlib import ticker\n",
    "from pandas import DataFrame, Series, ExcelWriter\n",
    "from datetime import datetime\n",
    "from matplotlib.backends.backend_pdf import PdfPages\n",
    "from matplotlib.offsetbox import TextArea, DrawingArea, OffsetImage, \\\n",
    "     AnnotationBbox\n",
    "from matplotlib.cbook import get_sample_data\n",
    "from matplotlib.ticker import FuncFormatter\n",
    "pd.options.mode.chained_assignment = None\n",
    "\n",
    "# SCRIPT SUMMARY\n",
    "print(\"\\n\\n\\n######################################################\\n\")\n",
    "if '__file__' in globals():\n",
    "    print(\"CURRENT SCRIPT:\\n\" + str(os.path.realpath(__file__)) + \"\\n\")\n",
    "print(\"INPUT FOLDERS:\")\n",
    "for key in inputs:\n",
    "    print(inputs[key])\n",
    "print(\"\\nOUTPUT FOLDERS:\")\n",
    "for key in outputs:\n",
    "    print(outputs[key])\n",
    "print(\"\\n######################################################\\n\")\n",
    "\n",
    "# PARAMS\n",
    "filename = 'Sunrise Sunset-2015.txt'\n",
    "year = 2015\n",
    "firstdata = 9\n",
    "maxdays = 31\n",
    "start = dt.datetime(year,1,1,0,0)\n",
    "columns = ['period','month','day','event','rawtime','min','hour','time','test']\n",
    "\n",
    "## NOTE: Input files must be named in the format: name + \"-\" + date(\"YYYY-MM-DD\")\n",
    "# FIND OPPORTUNITY DATA\n",
    "os.chdir(inputs['astro'])\n",
    "\n",
    "# Using the newer with construct to close the file automatically.\n",
    "with open(filename) as f:\n",
    "    data = f.readlines()\n",
    "\n",
    "# cut off extra crap\n",
    "raw = data[firstdata:firstdata+maxdays]\n",
    "    \n",
    "test = raw\n",
    "\n",
    "data = pd.DataFrame(columns=columns)\n",
    "temp = pd.DataFrame([['a',0,0,'a','a',0,0,dt.time(0,0),'a']], columns=columns)\n",
    "\n",
    "start_space = [4,5, #jan\n",
    "               6,5, #feb\n",
    "               6,5, #mar\n",
    "               6,5, #apr\n",
    "               6,5, #may\n",
    "               6,5, #jun\n",
    "               6,5, #jul\n",
    "               6,5, #aug\n",
    "               6,5, #sep\n",
    "               6,5, #oct\n",
    "               6,5, #nov\n",
    "               6,5] #dec\n",
    "\n",
    "events = ['01_r','01_s',\n",
    "          '02_r','02_s',\n",
    "          '03_r','03_s',\n",
    "          '04_r','04_s',\n",
    "          '05_r','05_s',\n",
    "          '06_r','06_s',\n",
    "          '07_r','07_s',\n",
    "          '08_r','08_s',\n",
    "          '09_r','09_s',\n",
    "          '10_r','10_s',\n",
    "          '11_r','11_s',\n",
    "          '12_r','12_s']\n",
    "\n",
    "\n",
    "for i in range(0,len(test)):\n",
    "    # find day\n",
    "    start = 0\n",
    "    end = 2\n",
    "    temp['day'] = raw[i][start:end]\n",
    "    # find times\n",
    "    for j in range(0,len(events)):\n",
    "        temp['month'] = events[j].split(\"_\")[0]\n",
    "        temp['event'] = events[j].split(\"_\")[1]\n",
    "        start += start_space[j]\n",
    "        end = start + 4\n",
    "        temp['rawtime'] = raw[i][start:end]\n",
    "        temp['period'] = temp['month'] + '_' +  temp['day']\n",
    "        data = data.append(temp, ignore_index=True)\n",
    "\n",
    "for i in range(0,len(data)):\n",
    "    data['test'][i] = data['rawtime'][i].count(' ')\n",
    "        \n",
    "#remove days that don't exist\n",
    "data = data[(data['test'] < 1)].reset_index(drop=True)\n",
    "\n",
    "for i in range(0,len(data)):\n",
    "    data['hour'][i] = data['rawtime'][i][0:2]\n",
    "    data['min'][i] = data['rawtime'][i][2:4]\n",
    "    data['time'][i] = dt.time(int(data['hour'][i]),int(data['min'][i]))\n",
    "\n",
    "s_rise = data[data['event'] == 'r'].sort('period')\n",
    "s_set = data[data['event'] == 's'].sort('period')"
   ]
  },
  {
   "cell_type": "code",
   "execution_count": 27,
   "metadata": {
    "collapsed": false
   },
   "outputs": [],
   "source": []
  },
  {
   "cell_type": "code",
   "execution_count": 66,
   "metadata": {
    "collapsed": false
   },
   "outputs": [],
   "source": [
    "plt.plot(s_rise['time'])\n",
    "plt.plot(s_set['time'])\n",
    "plt.show()"
   ]
  },
  {
   "cell_type": "code",
   "execution_count": 56,
   "metadata": {
    "collapsed": false
   },
   "outputs": [],
   "source": [
    "writer = ExcelWriter('export.xlsx', engine = 'xlsxwriter')\n",
    "data.to_excel(writer, sheet_name=\"data\")\n",
    "writer.save()"
   ]
  }
 ],
 "metadata": {
  "kernelspec": {
   "display_name": "Python 2",
   "language": "python",
   "name": "python2"
  },
  "language_info": {
   "codemirror_mode": {
    "name": "ipython",
    "version": 2
   },
   "file_extension": ".py",
   "mimetype": "text/x-python",
   "name": "python",
   "nbconvert_exporter": "python",
   "pygments_lexer": "ipython2",
   "version": "2.7.7"
  }
 },
 "nbformat": 4,
 "nbformat_minor": 0
}
